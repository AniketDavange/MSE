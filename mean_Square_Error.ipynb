{
  "nbformat": 4,
  "nbformat_minor": 0,
  "metadata": {
    "colab": {
      "name": "mean_Square_Error.ipynb",
      "provenance": [],
      "collapsed_sections": []
    },
    "kernelspec": {
      "name": "python3",
      "display_name": "Python 3"
    },
    "language_info": {
      "name": "python"
    }
  },
  "cells": [
    {
      "cell_type": "code",
      "execution_count": 1,
      "metadata": {
        "id": "R514L0pHtgcI"
      },
      "outputs": [],
      "source": [
        "#Mean Square Error without using Numpy"
      ]
    },
    {
      "cell_type": "code",
      "source": [
        "x=[11,20,19,17,10]\n",
        "y=[12,18,19.5,18,9]"
      ],
      "metadata": {
        "id": "rNCMBeSotzrS"
      },
      "execution_count": 2,
      "outputs": []
    },
    {
      "cell_type": "code",
      "source": [
        "summation=0    #variable to store the summation of difference\n",
        "n=len(x)          #finding total number of items in list\n",
        "for i in range(0,n):      #looping through each element of the list\n",
        "  difference = x[i] - y[i]  #finding the difference between observed and predicted value\n",
        "  squared_difference = difference**2   #taking square of the difference\n",
        "  summation = summation + squared_difference  #taking sum of all differences\n",
        "MSE = summation / n  #dividing summation by total value to obtain average\n",
        "print(\"The Mean Square Error without using numpy is :\",MSE)"
      ],
      "metadata": {
        "colab": {
          "base_uri": "https://localhost:8080/"
        },
        "id": "85alggiTt-lk",
        "outputId": "ad09f4f3-98a6-406c-84c7-98259d6b92ae"
      },
      "execution_count": 9,
      "outputs": [
        {
          "output_type": "stream",
          "name": "stdout",
          "text": [
            "The Mean Square Error without using numpy is : 1.45\n"
          ]
        }
      ]
    },
    {
      "cell_type": "code",
      "source": [
        "#Mean Square Error using Numpy"
      ],
      "metadata": {
        "id": "Bifw-o8evaB1"
      },
      "execution_count": 4,
      "outputs": []
    },
    {
      "cell_type": "code",
      "source": [
        "import numpy as np"
      ],
      "metadata": {
        "id": "OFYSkq4GwBVU"
      },
      "execution_count": 5,
      "outputs": []
    },
    {
      "cell_type": "code",
      "source": [
        "x=np.array(x)   \n",
        "y=np.array(y)"
      ],
      "metadata": {
        "id": "sAHQvmI6wJ7o"
      },
      "execution_count": 10,
      "outputs": []
    },
    {
      "cell_type": "code",
      "source": [
        "diff_array=np.subtract(x,y)\n",
        "squared_array=np.square(diff_array)\n",
        "mse=squared_array.mean()\n",
        "print(\"The mean squared error using numpy is:\",mse)"
      ],
      "metadata": {
        "colab": {
          "base_uri": "https://localhost:8080/"
        },
        "id": "YpVAUUznwVop",
        "outputId": "5bb902f9-b687-4170-973c-4a80da9da9b8"
      },
      "execution_count": 11,
      "outputs": [
        {
          "output_type": "stream",
          "name": "stdout",
          "text": [
            "The mean squared error using numpy is: 1.45\n"
          ]
        }
      ]
    },
    {
      "cell_type": "code",
      "source": [
        ""
      ],
      "metadata": {
        "id": "Snht0aRvwW4l"
      },
      "execution_count": null,
      "outputs": []
    }
  ]
}